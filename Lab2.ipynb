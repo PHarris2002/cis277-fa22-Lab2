{
 "cells": [
  {
   "cell_type": "markdown",
   "metadata": {},
   "source": [
    "## Lab 2 - Exploratory Data Analysis"
   ]
  },
  {
   "cell_type": "code",
   "execution_count": 122,
   "metadata": {},
   "outputs": [],
   "source": [
    "import pandas as pd"
   ]
  },
  {
   "cell_type": "markdown",
   "metadata": {},
   "source": [
    "## 1. Import Data"
   ]
  },
  {
   "cell_type": "code",
   "execution_count": 123,
   "metadata": {},
   "outputs": [],
   "source": [
    "df = pd.read_csv('imdb-videogames.csv')"
   ]
  },
  {
   "cell_type": "markdown",
   "metadata": {},
   "source": [
    "## 2. Inspect a Portion of the Dataset"
   ]
  },
  {
   "cell_type": "markdown",
   "metadata": {},
   "source": [
    "By using the head() method, this method will give a sample of the first few video games in the dataset."
   ]
  },
  {
   "cell_type": "code",
   "execution_count": 124,
   "metadata": {},
   "outputs": [
    {
     "data": {
      "text/html": [
       "<div>\n",
       "<style scoped>\n",
       "    .dataframe tbody tr th:only-of-type {\n",
       "        vertical-align: middle;\n",
       "    }\n",
       "\n",
       "    .dataframe tbody tr th {\n",
       "        vertical-align: top;\n",
       "    }\n",
       "\n",
       "    .dataframe thead th {\n",
       "        text-align: right;\n",
       "    }\n",
       "</style>\n",
       "<table border=\"1\" class=\"dataframe\">\n",
       "  <thead>\n",
       "    <tr style=\"text-align: right;\">\n",
       "      <th></th>\n",
       "      <th>Unnamed: 0</th>\n",
       "      <th>name</th>\n",
       "      <th>url</th>\n",
       "      <th>year</th>\n",
       "      <th>certificate</th>\n",
       "      <th>rating</th>\n",
       "      <th>votes</th>\n",
       "      <th>plot summary</th>\n",
       "      <th>Action</th>\n",
       "      <th>Adventure</th>\n",
       "      <th>Comedy</th>\n",
       "      <th>Crime</th>\n",
       "      <th>Family</th>\n",
       "      <th>Fantasy</th>\n",
       "      <th>Mystery</th>\n",
       "      <th>Sci-Fi</th>\n",
       "      <th>Thriller</th>\n",
       "    </tr>\n",
       "  </thead>\n",
       "  <tbody>\n",
       "    <tr>\n",
       "      <th>0</th>\n",
       "      <td>0</td>\n",
       "      <td>Spider-Man</td>\n",
       "      <td>https://www.imdb.com/title/tt5807780/?ref_=adv...</td>\n",
       "      <td>2018.0</td>\n",
       "      <td>T</td>\n",
       "      <td>9.2</td>\n",
       "      <td>20,759</td>\n",
       "      <td>When a new villain threatens New York City, Pe...</td>\n",
       "      <td>True</td>\n",
       "      <td>True</td>\n",
       "      <td>False</td>\n",
       "      <td>False</td>\n",
       "      <td>False</td>\n",
       "      <td>True</td>\n",
       "      <td>False</td>\n",
       "      <td>False</td>\n",
       "      <td>False</td>\n",
       "    </tr>\n",
       "    <tr>\n",
       "      <th>1</th>\n",
       "      <td>1</td>\n",
       "      <td>Red Dead Redemption II</td>\n",
       "      <td>https://www.imdb.com/title/tt6161168/?ref_=adv...</td>\n",
       "      <td>2018.0</td>\n",
       "      <td>M</td>\n",
       "      <td>9.7</td>\n",
       "      <td>35,703</td>\n",
       "      <td>Amidst the decline of the Wild West at the tur...</td>\n",
       "      <td>True</td>\n",
       "      <td>True</td>\n",
       "      <td>False</td>\n",
       "      <td>True</td>\n",
       "      <td>False</td>\n",
       "      <td>False</td>\n",
       "      <td>False</td>\n",
       "      <td>False</td>\n",
       "      <td>False</td>\n",
       "    </tr>\n",
       "    <tr>\n",
       "      <th>2</th>\n",
       "      <td>2</td>\n",
       "      <td>Grand Theft Auto V</td>\n",
       "      <td>https://www.imdb.com/title/tt2103188/?ref_=adv...</td>\n",
       "      <td>2013.0</td>\n",
       "      <td>M</td>\n",
       "      <td>9.5</td>\n",
       "      <td>59,986</td>\n",
       "      <td>Three very different criminals team up for a s...</td>\n",
       "      <td>True</td>\n",
       "      <td>False</td>\n",
       "      <td>False</td>\n",
       "      <td>True</td>\n",
       "      <td>False</td>\n",
       "      <td>False</td>\n",
       "      <td>False</td>\n",
       "      <td>False</td>\n",
       "      <td>False</td>\n",
       "    </tr>\n",
       "    <tr>\n",
       "      <th>3</th>\n",
       "      <td>3</td>\n",
       "      <td>God of War</td>\n",
       "      <td>https://www.imdb.com/title/tt5838588/?ref_=adv...</td>\n",
       "      <td>2018.0</td>\n",
       "      <td>M</td>\n",
       "      <td>9.6</td>\n",
       "      <td>26,118</td>\n",
       "      <td>After wiping out the gods of Mount Olympus, Kr...</td>\n",
       "      <td>True</td>\n",
       "      <td>True</td>\n",
       "      <td>False</td>\n",
       "      <td>False</td>\n",
       "      <td>False</td>\n",
       "      <td>False</td>\n",
       "      <td>False</td>\n",
       "      <td>False</td>\n",
       "      <td>False</td>\n",
       "    </tr>\n",
       "    <tr>\n",
       "      <th>4</th>\n",
       "      <td>4</td>\n",
       "      <td>Uncharted 4: A Thief's End</td>\n",
       "      <td>https://www.imdb.com/title/tt3334704/?ref_=adv...</td>\n",
       "      <td>2016.0</td>\n",
       "      <td>T</td>\n",
       "      <td>9.5</td>\n",
       "      <td>28,722</td>\n",
       "      <td>Thrown back into the dangerous underworld he'd...</td>\n",
       "      <td>True</td>\n",
       "      <td>True</td>\n",
       "      <td>False</td>\n",
       "      <td>False</td>\n",
       "      <td>False</td>\n",
       "      <td>False</td>\n",
       "      <td>False</td>\n",
       "      <td>False</td>\n",
       "      <td>False</td>\n",
       "    </tr>\n",
       "  </tbody>\n",
       "</table>\n",
       "</div>"
      ],
      "text/plain": [
       "   Unnamed: 0                        name  \\\n",
       "0           0                  Spider-Man   \n",
       "1           1      Red Dead Redemption II   \n",
       "2           2          Grand Theft Auto V   \n",
       "3           3                  God of War   \n",
       "4           4  Uncharted 4: A Thief's End   \n",
       "\n",
       "                                                 url    year certificate  \\\n",
       "0  https://www.imdb.com/title/tt5807780/?ref_=adv...  2018.0           T   \n",
       "1  https://www.imdb.com/title/tt6161168/?ref_=adv...  2018.0           M   \n",
       "2  https://www.imdb.com/title/tt2103188/?ref_=adv...  2013.0           M   \n",
       "3  https://www.imdb.com/title/tt5838588/?ref_=adv...  2018.0           M   \n",
       "4  https://www.imdb.com/title/tt3334704/?ref_=adv...  2016.0           T   \n",
       "\n",
       "  rating   votes                                       plot summary  Action  \\\n",
       "0    9.2  20,759  When a new villain threatens New York City, Pe...    True   \n",
       "1    9.7  35,703  Amidst the decline of the Wild West at the tur...    True   \n",
       "2    9.5  59,986  Three very different criminals team up for a s...    True   \n",
       "3    9.6  26,118  After wiping out the gods of Mount Olympus, Kr...    True   \n",
       "4    9.5  28,722  Thrown back into the dangerous underworld he'd...    True   \n",
       "\n",
       "   Adventure  Comedy  Crime  Family  Fantasy  Mystery  Sci-Fi  Thriller  \n",
       "0       True   False  False   False     True    False   False     False  \n",
       "1       True   False   True   False    False    False   False     False  \n",
       "2      False   False   True   False    False    False   False     False  \n",
       "3       True   False  False   False    False    False   False     False  \n",
       "4       True   False  False   False    False    False   False     False  "
      ]
     },
     "execution_count": 124,
     "metadata": {},
     "output_type": "execute_result"
    }
   ],
   "source": [
    "df.head()"
   ]
  },
  {
   "cell_type": "markdown",
   "metadata": {},
   "source": [
    "By using the tail() method, this method will give a sample of the last few video games in the dataset. The 10 in the parenthesis is used to get the last ten data entries."
   ]
  },
  {
   "cell_type": "code",
   "execution_count": 125,
   "metadata": {},
   "outputs": [
    {
     "data": {
      "text/html": [
       "<div>\n",
       "<style scoped>\n",
       "    .dataframe tbody tr th:only-of-type {\n",
       "        vertical-align: middle;\n",
       "    }\n",
       "\n",
       "    .dataframe tbody tr th {\n",
       "        vertical-align: top;\n",
       "    }\n",
       "\n",
       "    .dataframe thead th {\n",
       "        text-align: right;\n",
       "    }\n",
       "</style>\n",
       "<table border=\"1\" class=\"dataframe\">\n",
       "  <thead>\n",
       "    <tr style=\"text-align: right;\">\n",
       "      <th></th>\n",
       "      <th>Unnamed: 0</th>\n",
       "      <th>name</th>\n",
       "      <th>url</th>\n",
       "      <th>year</th>\n",
       "      <th>certificate</th>\n",
       "      <th>rating</th>\n",
       "      <th>votes</th>\n",
       "      <th>plot summary</th>\n",
       "      <th>Action</th>\n",
       "      <th>Adventure</th>\n",
       "      <th>Comedy</th>\n",
       "      <th>Crime</th>\n",
       "      <th>Family</th>\n",
       "      <th>Fantasy</th>\n",
       "      <th>Mystery</th>\n",
       "      <th>Sci-Fi</th>\n",
       "      <th>Thriller</th>\n",
       "    </tr>\n",
       "  </thead>\n",
       "  <tbody>\n",
       "    <tr>\n",
       "      <th>20795</th>\n",
       "      <td>20793</td>\n",
       "      <td>Boku wa kyoumo kimi o korosu</td>\n",
       "      <td>https://www.imdb.com/title/tt6010652/?ref_=adv...</td>\n",
       "      <td>2016.0</td>\n",
       "      <td>NaN</td>\n",
       "      <td>NaN</td>\n",
       "      <td>NaN</td>\n",
       "      <td>Add a Plot</td>\n",
       "      <td>False</td>\n",
       "      <td>False</td>\n",
       "      <td>False</td>\n",
       "      <td>False</td>\n",
       "      <td>False</td>\n",
       "      <td>False</td>\n",
       "      <td>False</td>\n",
       "      <td>False</td>\n",
       "      <td>True</td>\n",
       "    </tr>\n",
       "    <tr>\n",
       "      <th>20796</th>\n",
       "      <td>20794</td>\n",
       "      <td>Find Me Event</td>\n",
       "      <td>https://www.imdb.com/title/tt2619050/?ref_=adv...</td>\n",
       "      <td>2011.0</td>\n",
       "      <td>NaN</td>\n",
       "      <td>NaN</td>\n",
       "      <td>NaN</td>\n",
       "      <td>Days after being kidnapped and tortured, Denni...</td>\n",
       "      <td>False</td>\n",
       "      <td>False</td>\n",
       "      <td>False</td>\n",
       "      <td>False</td>\n",
       "      <td>False</td>\n",
       "      <td>False</td>\n",
       "      <td>False</td>\n",
       "      <td>False</td>\n",
       "      <td>True</td>\n",
       "    </tr>\n",
       "    <tr>\n",
       "      <th>20797</th>\n",
       "      <td>20795</td>\n",
       "      <td>Spooks</td>\n",
       "      <td>https://www.imdb.com/title/tt4965776/?ref_=adv...</td>\n",
       "      <td>2017.0</td>\n",
       "      <td>NaN</td>\n",
       "      <td>NaN</td>\n",
       "      <td>NaN</td>\n",
       "      <td>Add a Plot</td>\n",
       "      <td>False</td>\n",
       "      <td>False</td>\n",
       "      <td>False</td>\n",
       "      <td>False</td>\n",
       "      <td>False</td>\n",
       "      <td>False</td>\n",
       "      <td>False</td>\n",
       "      <td>False</td>\n",
       "      <td>True</td>\n",
       "    </tr>\n",
       "    <tr>\n",
       "      <th>20798</th>\n",
       "      <td>20796</td>\n",
       "      <td>Bite Marks</td>\n",
       "      <td>https://www.imdb.com/title/tt2797224/?ref_=adv...</td>\n",
       "      <td>2012.0</td>\n",
       "      <td>NaN</td>\n",
       "      <td>NaN</td>\n",
       "      <td>NaN</td>\n",
       "      <td>A demonologist gets in over his head while mak...</td>\n",
       "      <td>False</td>\n",
       "      <td>False</td>\n",
       "      <td>False</td>\n",
       "      <td>False</td>\n",
       "      <td>False</td>\n",
       "      <td>False</td>\n",
       "      <td>False</td>\n",
       "      <td>False</td>\n",
       "      <td>False</td>\n",
       "    </tr>\n",
       "    <tr>\n",
       "      <th>20799</th>\n",
       "      <td>20797</td>\n",
       "      <td>Requiem</td>\n",
       "      <td>https://www.imdb.com/title/tt4396968/?ref_=adv...</td>\n",
       "      <td>2016.0</td>\n",
       "      <td>NaN</td>\n",
       "      <td>NaN</td>\n",
       "      <td>NaN</td>\n",
       "      <td>Add a Plot</td>\n",
       "      <td>False</td>\n",
       "      <td>False</td>\n",
       "      <td>False</td>\n",
       "      <td>False</td>\n",
       "      <td>False</td>\n",
       "      <td>False</td>\n",
       "      <td>False</td>\n",
       "      <td>False</td>\n",
       "      <td>True</td>\n",
       "    </tr>\n",
       "    <tr>\n",
       "      <th>20800</th>\n",
       "      <td>20798</td>\n",
       "      <td>Enjoy Your Power, Enjoy Your Choice</td>\n",
       "      <td>https://www.imdb.com/title/tt3845606/?ref_=adv...</td>\n",
       "      <td>2014.0</td>\n",
       "      <td>NaN</td>\n",
       "      <td>NaN</td>\n",
       "      <td>NaN</td>\n",
       "      <td>Add a Plot</td>\n",
       "      <td>False</td>\n",
       "      <td>False</td>\n",
       "      <td>False</td>\n",
       "      <td>False</td>\n",
       "      <td>False</td>\n",
       "      <td>False</td>\n",
       "      <td>False</td>\n",
       "      <td>False</td>\n",
       "      <td>True</td>\n",
       "    </tr>\n",
       "    <tr>\n",
       "      <th>20801</th>\n",
       "      <td>20799</td>\n",
       "      <td>RedSun2020</td>\n",
       "      <td>https://www.imdb.com/title/tt0790739/?ref_=adv...</td>\n",
       "      <td>2004.0</td>\n",
       "      <td>NaN</td>\n",
       "      <td>NaN</td>\n",
       "      <td>NaN</td>\n",
       "      <td>Joseph gets kidnapped and it's the player's jo...</td>\n",
       "      <td>False</td>\n",
       "      <td>False</td>\n",
       "      <td>False</td>\n",
       "      <td>False</td>\n",
       "      <td>False</td>\n",
       "      <td>False</td>\n",
       "      <td>False</td>\n",
       "      <td>False</td>\n",
       "      <td>True</td>\n",
       "    </tr>\n",
       "    <tr>\n",
       "      <th>20802</th>\n",
       "      <td>20800</td>\n",
       "      <td>Shutter</td>\n",
       "      <td>https://www.imdb.com/title/tt5119948/?ref_=adv...</td>\n",
       "      <td>2015.0</td>\n",
       "      <td>NaN</td>\n",
       "      <td>NaN</td>\n",
       "      <td>NaN</td>\n",
       "      <td>A tech support man who uses a drone to investi...</td>\n",
       "      <td>False</td>\n",
       "      <td>False</td>\n",
       "      <td>False</td>\n",
       "      <td>False</td>\n",
       "      <td>False</td>\n",
       "      <td>False</td>\n",
       "      <td>False</td>\n",
       "      <td>False</td>\n",
       "      <td>True</td>\n",
       "    </tr>\n",
       "    <tr>\n",
       "      <th>20803</th>\n",
       "      <td>20801</td>\n",
       "      <td>The Music Machine</td>\n",
       "      <td>https://www.imdb.com/title/tt5142082/?ref_=adv...</td>\n",
       "      <td>2015.0</td>\n",
       "      <td>NaN</td>\n",
       "      <td>NaN</td>\n",
       "      <td>NaN</td>\n",
       "      <td>A young teenage girl and the ghost of a dead m...</td>\n",
       "      <td>False</td>\n",
       "      <td>False</td>\n",
       "      <td>False</td>\n",
       "      <td>False</td>\n",
       "      <td>False</td>\n",
       "      <td>False</td>\n",
       "      <td>False</td>\n",
       "      <td>False</td>\n",
       "      <td>True</td>\n",
       "    </tr>\n",
       "    <tr>\n",
       "      <th>20804</th>\n",
       "      <td>20802</td>\n",
       "      <td>Cryptic</td>\n",
       "      <td>https://www.imdb.com/title/tt10964974/?ref_=ad...</td>\n",
       "      <td>2020.0</td>\n",
       "      <td>NaN</td>\n",
       "      <td>NaN</td>\n",
       "      <td>NaN</td>\n",
       "      <td>Kidnapped by an insane man and dragged into a ...</td>\n",
       "      <td>False</td>\n",
       "      <td>False</td>\n",
       "      <td>False</td>\n",
       "      <td>False</td>\n",
       "      <td>False</td>\n",
       "      <td>False</td>\n",
       "      <td>False</td>\n",
       "      <td>False</td>\n",
       "      <td>True</td>\n",
       "    </tr>\n",
       "  </tbody>\n",
       "</table>\n",
       "</div>"
      ],
      "text/plain": [
       "       Unnamed: 0                                 name  \\\n",
       "20795       20793         Boku wa kyoumo kimi o korosu   \n",
       "20796       20794                        Find Me Event   \n",
       "20797       20795                               Spooks   \n",
       "20798       20796                           Bite Marks   \n",
       "20799       20797                              Requiem   \n",
       "20800       20798  Enjoy Your Power, Enjoy Your Choice   \n",
       "20801       20799                           RedSun2020   \n",
       "20802       20800                              Shutter   \n",
       "20803       20801                    The Music Machine   \n",
       "20804       20802                              Cryptic   \n",
       "\n",
       "                                                     url    year certificate  \\\n",
       "20795  https://www.imdb.com/title/tt6010652/?ref_=adv...  2016.0         NaN   \n",
       "20796  https://www.imdb.com/title/tt2619050/?ref_=adv...  2011.0         NaN   \n",
       "20797  https://www.imdb.com/title/tt4965776/?ref_=adv...  2017.0         NaN   \n",
       "20798  https://www.imdb.com/title/tt2797224/?ref_=adv...  2012.0         NaN   \n",
       "20799  https://www.imdb.com/title/tt4396968/?ref_=adv...  2016.0         NaN   \n",
       "20800  https://www.imdb.com/title/tt3845606/?ref_=adv...  2014.0         NaN   \n",
       "20801  https://www.imdb.com/title/tt0790739/?ref_=adv...  2004.0         NaN   \n",
       "20802  https://www.imdb.com/title/tt5119948/?ref_=adv...  2015.0         NaN   \n",
       "20803  https://www.imdb.com/title/tt5142082/?ref_=adv...  2015.0         NaN   \n",
       "20804  https://www.imdb.com/title/tt10964974/?ref_=ad...  2020.0         NaN   \n",
       "\n",
       "      rating votes                                       plot summary  Action  \\\n",
       "20795    NaN   NaN                                         Add a Plot   False   \n",
       "20796    NaN   NaN  Days after being kidnapped and tortured, Denni...   False   \n",
       "20797    NaN   NaN                                         Add a Plot   False   \n",
       "20798    NaN   NaN  A demonologist gets in over his head while mak...   False   \n",
       "20799    NaN   NaN                                         Add a Plot   False   \n",
       "20800    NaN   NaN                                         Add a Plot   False   \n",
       "20801    NaN   NaN  Joseph gets kidnapped and it's the player's jo...   False   \n",
       "20802    NaN   NaN  A tech support man who uses a drone to investi...   False   \n",
       "20803    NaN   NaN  A young teenage girl and the ghost of a dead m...   False   \n",
       "20804    NaN   NaN  Kidnapped by an insane man and dragged into a ...   False   \n",
       "\n",
       "       Adventure  Comedy  Crime  Family  Fantasy  Mystery  Sci-Fi  Thriller  \n",
       "20795      False   False  False   False    False    False   False      True  \n",
       "20796      False   False  False   False    False    False   False      True  \n",
       "20797      False   False  False   False    False    False   False      True  \n",
       "20798      False   False  False   False    False    False   False     False  \n",
       "20799      False   False  False   False    False    False   False      True  \n",
       "20800      False   False  False   False    False    False   False      True  \n",
       "20801      False   False  False   False    False    False   False      True  \n",
       "20802      False   False  False   False    False    False   False      True  \n",
       "20803      False   False  False   False    False    False   False      True  \n",
       "20804      False   False  False   False    False    False   False      True  "
      ]
     },
     "execution_count": 125,
     "metadata": {},
     "output_type": "execute_result"
    }
   ],
   "source": [
    "df.tail(10)"
   ]
  },
  {
   "cell_type": "markdown",
   "metadata": {},
   "source": [
    "## 3. Shape and Basic Info about the Dataset"
   ]
  },
  {
   "cell_type": "markdown",
   "metadata": {},
   "source": [
    "Using .shape gets the number of rows and columns respectively for the dataset."
   ]
  },
  {
   "cell_type": "code",
   "execution_count": 126,
   "metadata": {},
   "outputs": [
    {
     "data": {
      "text/plain": [
       "(20805, 17)"
      ]
     },
     "execution_count": 126,
     "metadata": {},
     "output_type": "execute_result"
    }
   ],
   "source": [
    "df.shape"
   ]
  },
  {
   "cell_type": "markdown",
   "metadata": {},
   "source": [
    "Returns information regarding what type of data is provided for each column of the dataframe (int, float, object/string, etc.). It also counts how many values aren't non-null values - or values that isn't a 0 or an empty string."
   ]
  },
  {
   "cell_type": "code",
   "execution_count": 127,
   "metadata": {},
   "outputs": [
    {
     "name": "stdout",
     "output_type": "stream",
     "text": [
      "<class 'pandas.core.frame.DataFrame'>\n",
      "RangeIndex: 20805 entries, 0 to 20804\n",
      "Data columns (total 17 columns):\n",
      " #   Column        Non-Null Count  Dtype  \n",
      "---  ------        --------------  -----  \n",
      " 0   Unnamed: 0    20805 non-null  int64  \n",
      " 1   name          20805 non-null  object \n",
      " 2   url           20805 non-null  object \n",
      " 3   year          20538 non-null  float64\n",
      " 4   certificate   7905 non-null   object \n",
      " 5   rating        11602 non-null  object \n",
      " 6   votes         11602 non-null  object \n",
      " 7   plot summary  20805 non-null  object \n",
      " 8   Action        20805 non-null  bool   \n",
      " 9   Adventure     20805 non-null  bool   \n",
      " 10  Comedy        20805 non-null  bool   \n",
      " 11  Crime         20805 non-null  bool   \n",
      " 12  Family        20805 non-null  bool   \n",
      " 13  Fantasy       20805 non-null  bool   \n",
      " 14  Mystery       20805 non-null  bool   \n",
      " 15  Sci-Fi        20805 non-null  bool   \n",
      " 16  Thriller      20805 non-null  bool   \n",
      "dtypes: bool(9), float64(1), int64(1), object(6)\n",
      "memory usage: 1.4+ MB\n"
     ]
    }
   ],
   "source": [
    "df.info()"
   ]
  },
  {
   "cell_type": "markdown",
   "metadata": {},
   "source": [
    "Describes data for columns containing only numerical (int or float) data."
   ]
  },
  {
   "cell_type": "code",
   "execution_count": 128,
   "metadata": {},
   "outputs": [
    {
     "data": {
      "text/html": [
       "<div>\n",
       "<style scoped>\n",
       "    .dataframe tbody tr th:only-of-type {\n",
       "        vertical-align: middle;\n",
       "    }\n",
       "\n",
       "    .dataframe tbody tr th {\n",
       "        vertical-align: top;\n",
       "    }\n",
       "\n",
       "    .dataframe thead th {\n",
       "        text-align: right;\n",
       "    }\n",
       "</style>\n",
       "<table border=\"1\" class=\"dataframe\">\n",
       "  <thead>\n",
       "    <tr style=\"text-align: right;\">\n",
       "      <th></th>\n",
       "      <th>Unnamed: 0</th>\n",
       "      <th>year</th>\n",
       "    </tr>\n",
       "  </thead>\n",
       "  <tbody>\n",
       "    <tr>\n",
       "      <th>count</th>\n",
       "      <td>20805.000000</td>\n",
       "      <td>20538.000000</td>\n",
       "    </tr>\n",
       "    <tr>\n",
       "      <th>mean</th>\n",
       "      <td>10400.066667</td>\n",
       "      <td>2005.567485</td>\n",
       "    </tr>\n",
       "    <tr>\n",
       "      <th>std</th>\n",
       "      <td>6005.918897</td>\n",
       "      <td>11.846001</td>\n",
       "    </tr>\n",
       "    <tr>\n",
       "      <th>min</th>\n",
       "      <td>0.000000</td>\n",
       "      <td>1952.000000</td>\n",
       "    </tr>\n",
       "    <tr>\n",
       "      <th>25%</th>\n",
       "      <td>5199.000000</td>\n",
       "      <td>1997.000000</td>\n",
       "    </tr>\n",
       "    <tr>\n",
       "      <th>50%</th>\n",
       "      <td>10400.000000</td>\n",
       "      <td>2008.000000</td>\n",
       "    </tr>\n",
       "    <tr>\n",
       "      <th>75%</th>\n",
       "      <td>15601.000000</td>\n",
       "      <td>2016.000000</td>\n",
       "    </tr>\n",
       "    <tr>\n",
       "      <th>max</th>\n",
       "      <td>20802.000000</td>\n",
       "      <td>2027.000000</td>\n",
       "    </tr>\n",
       "  </tbody>\n",
       "</table>\n",
       "</div>"
      ],
      "text/plain": [
       "         Unnamed: 0          year\n",
       "count  20805.000000  20538.000000\n",
       "mean   10400.066667   2005.567485\n",
       "std     6005.918897     11.846001\n",
       "min        0.000000   1952.000000\n",
       "25%     5199.000000   1997.000000\n",
       "50%    10400.000000   2008.000000\n",
       "75%    15601.000000   2016.000000\n",
       "max    20802.000000   2027.000000"
      ]
     },
     "execution_count": 128,
     "metadata": {},
     "output_type": "execute_result"
    }
   ],
   "source": [
    "df.describe()"
   ]
  },
  {
   "cell_type": "markdown",
   "metadata": {},
   "source": [
    "## 4. Look for Duplicates"
   ]
  },
  {
   "cell_type": "markdown",
   "metadata": {},
   "source": [
    "While using .duplicated() alone does detect what's duplicated, Visual Studio Code truncates a lot of the outputted data. Using .duplicated().sum() alerts us if there is any duplicates within a short output."
   ]
  },
  {
   "cell_type": "code",
   "execution_count": 129,
   "metadata": {},
   "outputs": [
    {
     "data": {
      "text/plain": [
       "2"
      ]
     },
     "execution_count": 129,
     "metadata": {},
     "output_type": "execute_result"
    }
   ],
   "source": [
    "df.duplicated().sum()"
   ]
  },
  {
   "cell_type": "markdown",
   "metadata": {},
   "source": [
    "Removes all duplicates in the data set."
   ]
  },
  {
   "cell_type": "code",
   "execution_count": 130,
   "metadata": {},
   "outputs": [],
   "source": [
    "df.drop_duplicates(inplace=True)"
   ]
  },
  {
   "cell_type": "markdown",
   "metadata": {},
   "source": [
    "Double checks if the duplicates have been removed."
   ]
  },
  {
   "cell_type": "code",
   "execution_count": 131,
   "metadata": {},
   "outputs": [
    {
     "data": {
      "text/plain": [
       "0"
      ]
     },
     "execution_count": 131,
     "metadata": {},
     "output_type": "execute_result"
    }
   ],
   "source": [
    "df.duplicated().sum()"
   ]
  },
  {
   "cell_type": "markdown",
   "metadata": {},
   "source": [
    "## 5. Fix Types"
   ]
  },
  {
   "cell_type": "markdown",
   "metadata": {},
   "source": [
    "By using .info(), we can spot what data columns looks unusual regarding the data type. Rating shouldn't be an object type because ratings are usually associated with numbers, integer or float. Votes should also result in a numerical type."
   ]
  },
  {
   "cell_type": "code",
   "execution_count": 132,
   "metadata": {},
   "outputs": [
    {
     "name": "stdout",
     "output_type": "stream",
     "text": [
      "<class 'pandas.core.frame.DataFrame'>\n",
      "Int64Index: 20803 entries, 0 to 20804\n",
      "Data columns (total 17 columns):\n",
      " #   Column        Non-Null Count  Dtype  \n",
      "---  ------        --------------  -----  \n",
      " 0   Unnamed: 0    20803 non-null  int64  \n",
      " 1   name          20803 non-null  object \n",
      " 2   url           20803 non-null  object \n",
      " 3   year          20536 non-null  float64\n",
      " 4   certificate   7903 non-null   object \n",
      " 5   rating        11600 non-null  object \n",
      " 6   votes         11600 non-null  object \n",
      " 7   plot summary  20803 non-null  object \n",
      " 8   Action        20803 non-null  bool   \n",
      " 9   Adventure     20803 non-null  bool   \n",
      " 10  Comedy        20803 non-null  bool   \n",
      " 11  Crime         20803 non-null  bool   \n",
      " 12  Family        20803 non-null  bool   \n",
      " 13  Fantasy       20803 non-null  bool   \n",
      " 14  Mystery       20803 non-null  bool   \n",
      " 15  Sci-Fi        20803 non-null  bool   \n",
      " 16  Thriller      20803 non-null  bool   \n",
      "dtypes: bool(9), float64(1), int64(1), object(6)\n",
      "memory usage: 1.6+ MB\n"
     ]
    }
   ],
   "source": [
    "df.info()"
   ]
  },
  {
   "cell_type": "markdown",
   "metadata": {},
   "source": [
    ".dtypes gives a more concise display of what type of data is provided as opposed to .info()."
   ]
  },
  {
   "cell_type": "code",
   "execution_count": 133,
   "metadata": {},
   "outputs": [
    {
     "data": {
      "text/plain": [
       "Unnamed: 0        int64\n",
       "name             object\n",
       "url              object\n",
       "year            float64\n",
       "certificate      object\n",
       "rating           object\n",
       "votes            object\n",
       "plot summary     object\n",
       "Action             bool\n",
       "Adventure          bool\n",
       "Comedy             bool\n",
       "Crime              bool\n",
       "Family             bool\n",
       "Fantasy            bool\n",
       "Mystery            bool\n",
       "Sci-Fi             bool\n",
       "Thriller           bool\n",
       "dtype: object"
      ]
     },
     "execution_count": 133,
     "metadata": {},
     "output_type": "execute_result"
    }
   ],
   "source": [
    "df.dtypes"
   ]
  },
  {
   "cell_type": "markdown",
   "metadata": {},
   "source": [
    "Use the .unique function to see an un-truncated version of outputted data. We see that \"nan\" in the rating values and the commas in vote numbers are causing the column data types to turn into strings instead of numerical data, which is what we don't want."
   ]
  },
  {
   "cell_type": "code",
   "execution_count": 134,
   "metadata": {},
   "outputs": [
    {
     "data": {
      "text/plain": [
       "array(['9.2', '9.7', '9.5', '9.6', '8.5', '8.8', '9.3', '8.0', '9.0', nan,\n",
       "       '7.6', '9.4', '7.8', '8.9', '8.1', '8.7', '7.5', '8.4', '7.9',\n",
       "       '8.6', '8.3', '8.2', '4.3', '6.3', '4.9', '7.7', '6.1', '9.1',\n",
       "       '7.4', '6.9', '6.0', '5.9', '7.1', '7.0', '6.7', '6.4', '6.6',\n",
       "       '7.3', '6.8', '4.0', '4.4', '6.2', '5.1', '7.2', '5.7', '5.5',\n",
       "       '6.5', '5.6', '2.2', '3.4', '2.8', '5.8', '4.8', '2.9', '5.4',\n",
       "       '1.5', '5.0', '3.7', '4.5', '5.2', '4.1', '5.3', '1.4', '4.7',\n",
       "       '1.3', '3.8', '1.7', '3.6', '3.2', '1.8', '4.6', '3.0', '2.5',\n",
       "       '1.9', '*9.0', '3.9', '3.1', '3.3', '4.2', '2.1', '2.3', '2.7',\n",
       "       '3.5', '1.6', '2.6', '2.4', '2.0', '1.0'], dtype=object)"
      ]
     },
     "metadata": {},
     "output_type": "display_data"
    },
    {
     "data": {
      "text/plain": [
       "array(['20,759', '35,703', '59,986', ..., '5,029', '1,357', '3,025'],\n",
       "      dtype=object)"
      ]
     },
     "metadata": {},
     "output_type": "display_data"
    }
   ],
   "source": [
    "display(df.rating.unique())\n",
    "display(df.votes.unique())"
   ]
  },
  {
   "cell_type": "markdown",
   "metadata": {},
   "source": [
    "In the data, there is \"*9.0\" which causes the column to become an object/string column. We will replace this value."
   ]
  },
  {
   "cell_type": "code",
   "execution_count": 135,
   "metadata": {},
   "outputs": [
    {
     "data": {
      "text/plain": [
       "array(['9.2', '9.7', '9.5', '9.6', '8.5', '8.8', '9.3', '8.0', '9.0', nan,\n",
       "       '7.6', '9.4', '7.8', '8.9', '8.1', '8.7', '7.5', '8.4', '7.9',\n",
       "       '8.6', '8.3', '8.2', '4.3', '6.3', '4.9', '7.7', '6.1', '9.1',\n",
       "       '7.4', '6.9', '6.0', '5.9', '7.1', '7.0', '6.7', '6.4', '6.6',\n",
       "       '7.3', '6.8', '4.0', '4.4', '6.2', '5.1', '7.2', '5.7', '5.5',\n",
       "       '6.5', '5.6', '2.2', '3.4', '2.8', '5.8', '4.8', '2.9', '5.4',\n",
       "       '1.5', '5.0', '3.7', '4.5', '5.2', '4.1', '5.3', '1.4', '4.7',\n",
       "       '1.3', '3.8', '1.7', '3.6', '3.2', '1.8', '4.6', '3.0', '2.5',\n",
       "       '1.9', 9.0, '3.9', '3.1', '3.3', '4.2', '2.1', '2.3', '2.7', '3.5',\n",
       "       '1.6', '2.6', '2.4', '2.0', '1.0'], dtype=object)"
      ]
     },
     "metadata": {},
     "output_type": "display_data"
    }
   ],
   "source": [
    "df.rating.replace(\"*9.0\", 9.0, inplace=True)\n",
    "display(df.rating.unique())"
   ]
  },
  {
   "cell_type": "markdown",
   "metadata": {},
   "source": [
    "Converts rating to a numeric value (since the column was originally an object/string value, it now has to be converted.)"
   ]
  },
  {
   "cell_type": "code",
   "execution_count": 136,
   "metadata": {},
   "outputs": [
    {
     "data": {
      "text/plain": [
       "array([9.2, 9.7, 9.5, 9.6, 8.5, 8.8, 9.3, 8. , 9. , nan, 7.6, 9.4, 7.8,\n",
       "       8.9, 8.1, 8.7, 7.5, 8.4, 7.9, 8.6, 8.3, 8.2, 4.3, 6.3, 4.9, 7.7,\n",
       "       6.1, 9.1, 7.4, 6.9, 6. , 5.9, 7.1, 7. , 6.7, 6.4, 6.6, 7.3, 6.8,\n",
       "       4. , 4.4, 6.2, 5.1, 7.2, 5.7, 5.5, 6.5, 5.6, 2.2, 3.4, 2.8, 5.8,\n",
       "       4.8, 2.9, 5.4, 1.5, 5. , 3.7, 4.5, 5.2, 4.1, 5.3, 1.4, 4.7, 1.3,\n",
       "       3.8, 1.7, 3.6, 3.2, 1.8, 4.6, 3. , 2.5, 1.9, 3.9, 3.1, 3.3, 4.2,\n",
       "       2.1, 2.3, 2.7, 3.5, 1.6, 2.6, 2.4, 2. , 1. ])"
      ]
     },
     "metadata": {},
     "output_type": "display_data"
    }
   ],
   "source": [
    "df.rating = pd.to_numeric(df.rating)\n",
    "display(df.rating.unique())"
   ]
  },
  {
   "cell_type": "markdown",
   "metadata": {},
   "source": [
    "Removes the comma from all numbers in the votes column."
   ]
  },
  {
   "cell_type": "code",
   "execution_count": 137,
   "metadata": {},
   "outputs": [],
   "source": [
    "df['votes'] = df['votes'].str.replace(',','')"
   ]
  },
  {
   "cell_type": "markdown",
   "metadata": {},
   "source": [
    "Converts votes to a numeric value (since the column was originally an object/string value, it now has to be converted.)"
   ]
  },
  {
   "cell_type": "code",
   "execution_count": 138,
   "metadata": {},
   "outputs": [
    {
     "data": {
      "text/plain": [
       "array([9.2, 9.7, 9.5, 9.6, 8.5, 8.8, 9.3, 8. , 9. , nan, 7.6, 9.4, 7.8,\n",
       "       8.9, 8.1, 8.7, 7.5, 8.4, 7.9, 8.6, 8.3, 8.2, 4.3, 6.3, 4.9, 7.7,\n",
       "       6.1, 9.1, 7.4, 6.9, 6. , 5.9, 7.1, 7. , 6.7, 6.4, 6.6, 7.3, 6.8,\n",
       "       4. , 4.4, 6.2, 5.1, 7.2, 5.7, 5.5, 6.5, 5.6, 2.2, 3.4, 2.8, 5.8,\n",
       "       4.8, 2.9, 5.4, 1.5, 5. , 3.7, 4.5, 5.2, 4.1, 5.3, 1.4, 4.7, 1.3,\n",
       "       3.8, 1.7, 3.6, 3.2, 1.8, 4.6, 3. , 2.5, 1.9, 3.9, 3.1, 3.3, 4.2,\n",
       "       2.1, 2.3, 2.7, 3.5, 1.6, 2.6, 2.4, 2. , 1. ])"
      ]
     },
     "metadata": {},
     "output_type": "display_data"
    }
   ],
   "source": [
    "df.votes = pd.to_numeric(df.votes)\n",
    "display(df.rating.unique())"
   ]
  },
  {
   "cell_type": "markdown",
   "metadata": {},
   "source": [
    "## 6. Drop and Rename Columns"
   ]
  },
  {
   "cell_type": "markdown",
   "metadata": {},
   "source": [
    "We see that \"plot summary\" is not a very code-friendly title because it lacks an underscore in place of the space. There is also a column named \"Unnamed: 0\" which I will rename game_index for personal clarification. I ran into a problem with the name \"Sci-Fi\" later in the assignent, so I'm changing the dash into an underscore."
   ]
  },
  {
   "cell_type": "code",
   "execution_count": 139,
   "metadata": {},
   "outputs": [
    {
     "data": {
      "text/plain": [
       "Index(['Unnamed: 0', 'name', 'url', 'year', 'certificate', 'rating', 'votes',\n",
       "       'plot summary', 'Action', 'Adventure', 'Comedy', 'Crime', 'Family',\n",
       "       'Fantasy', 'Mystery', 'Sci-Fi', 'Thriller'],\n",
       "      dtype='object')"
      ]
     },
     "execution_count": 139,
     "metadata": {},
     "output_type": "execute_result"
    }
   ],
   "source": [
    "df.columns"
   ]
  },
  {
   "cell_type": "code",
   "execution_count": 140,
   "metadata": {},
   "outputs": [
    {
     "data": {
      "text/html": [
       "<div>\n",
       "<style scoped>\n",
       "    .dataframe tbody tr th:only-of-type {\n",
       "        vertical-align: middle;\n",
       "    }\n",
       "\n",
       "    .dataframe tbody tr th {\n",
       "        vertical-align: top;\n",
       "    }\n",
       "\n",
       "    .dataframe thead th {\n",
       "        text-align: right;\n",
       "    }\n",
       "</style>\n",
       "<table border=\"1\" class=\"dataframe\">\n",
       "  <thead>\n",
       "    <tr style=\"text-align: right;\">\n",
       "      <th></th>\n",
       "      <th>Unnamed: 0</th>\n",
       "      <th>name</th>\n",
       "      <th>url</th>\n",
       "      <th>year</th>\n",
       "      <th>certificate</th>\n",
       "      <th>rating</th>\n",
       "      <th>votes</th>\n",
       "      <th>plot summary</th>\n",
       "      <th>Action</th>\n",
       "      <th>Adventure</th>\n",
       "      <th>Comedy</th>\n",
       "      <th>Crime</th>\n",
       "      <th>Family</th>\n",
       "      <th>Fantasy</th>\n",
       "      <th>Mystery</th>\n",
       "      <th>Sci-Fi</th>\n",
       "      <th>Thriller</th>\n",
       "    </tr>\n",
       "  </thead>\n",
       "  <tbody>\n",
       "    <tr>\n",
       "      <th>0</th>\n",
       "      <td>0</td>\n",
       "      <td>Spider-Man</td>\n",
       "      <td>https://www.imdb.com/title/tt5807780/?ref_=adv...</td>\n",
       "      <td>2018.0</td>\n",
       "      <td>T</td>\n",
       "      <td>9.2</td>\n",
       "      <td>20759.0</td>\n",
       "      <td>When a new villain threatens New York City, Pe...</td>\n",
       "      <td>True</td>\n",
       "      <td>True</td>\n",
       "      <td>False</td>\n",
       "      <td>False</td>\n",
       "      <td>False</td>\n",
       "      <td>True</td>\n",
       "      <td>False</td>\n",
       "      <td>False</td>\n",
       "      <td>False</td>\n",
       "    </tr>\n",
       "    <tr>\n",
       "      <th>1</th>\n",
       "      <td>1</td>\n",
       "      <td>Red Dead Redemption II</td>\n",
       "      <td>https://www.imdb.com/title/tt6161168/?ref_=adv...</td>\n",
       "      <td>2018.0</td>\n",
       "      <td>M</td>\n",
       "      <td>9.7</td>\n",
       "      <td>35703.0</td>\n",
       "      <td>Amidst the decline of the Wild West at the tur...</td>\n",
       "      <td>True</td>\n",
       "      <td>True</td>\n",
       "      <td>False</td>\n",
       "      <td>True</td>\n",
       "      <td>False</td>\n",
       "      <td>False</td>\n",
       "      <td>False</td>\n",
       "      <td>False</td>\n",
       "      <td>False</td>\n",
       "    </tr>\n",
       "    <tr>\n",
       "      <th>2</th>\n",
       "      <td>2</td>\n",
       "      <td>Grand Theft Auto V</td>\n",
       "      <td>https://www.imdb.com/title/tt2103188/?ref_=adv...</td>\n",
       "      <td>2013.0</td>\n",
       "      <td>M</td>\n",
       "      <td>9.5</td>\n",
       "      <td>59986.0</td>\n",
       "      <td>Three very different criminals team up for a s...</td>\n",
       "      <td>True</td>\n",
       "      <td>False</td>\n",
       "      <td>False</td>\n",
       "      <td>True</td>\n",
       "      <td>False</td>\n",
       "      <td>False</td>\n",
       "      <td>False</td>\n",
       "      <td>False</td>\n",
       "      <td>False</td>\n",
       "    </tr>\n",
       "    <tr>\n",
       "      <th>3</th>\n",
       "      <td>3</td>\n",
       "      <td>God of War</td>\n",
       "      <td>https://www.imdb.com/title/tt5838588/?ref_=adv...</td>\n",
       "      <td>2018.0</td>\n",
       "      <td>M</td>\n",
       "      <td>9.6</td>\n",
       "      <td>26118.0</td>\n",
       "      <td>After wiping out the gods of Mount Olympus, Kr...</td>\n",
       "      <td>True</td>\n",
       "      <td>True</td>\n",
       "      <td>False</td>\n",
       "      <td>False</td>\n",
       "      <td>False</td>\n",
       "      <td>False</td>\n",
       "      <td>False</td>\n",
       "      <td>False</td>\n",
       "      <td>False</td>\n",
       "    </tr>\n",
       "    <tr>\n",
       "      <th>4</th>\n",
       "      <td>4</td>\n",
       "      <td>Uncharted 4: A Thief's End</td>\n",
       "      <td>https://www.imdb.com/title/tt3334704/?ref_=adv...</td>\n",
       "      <td>2016.0</td>\n",
       "      <td>T</td>\n",
       "      <td>9.5</td>\n",
       "      <td>28722.0</td>\n",
       "      <td>Thrown back into the dangerous underworld he'd...</td>\n",
       "      <td>True</td>\n",
       "      <td>True</td>\n",
       "      <td>False</td>\n",
       "      <td>False</td>\n",
       "      <td>False</td>\n",
       "      <td>False</td>\n",
       "      <td>False</td>\n",
       "      <td>False</td>\n",
       "      <td>False</td>\n",
       "    </tr>\n",
       "    <tr>\n",
       "      <th>...</th>\n",
       "      <td>...</td>\n",
       "      <td>...</td>\n",
       "      <td>...</td>\n",
       "      <td>...</td>\n",
       "      <td>...</td>\n",
       "      <td>...</td>\n",
       "      <td>...</td>\n",
       "      <td>...</td>\n",
       "      <td>...</td>\n",
       "      <td>...</td>\n",
       "      <td>...</td>\n",
       "      <td>...</td>\n",
       "      <td>...</td>\n",
       "      <td>...</td>\n",
       "      <td>...</td>\n",
       "      <td>...</td>\n",
       "      <td>...</td>\n",
       "    </tr>\n",
       "    <tr>\n",
       "      <th>20800</th>\n",
       "      <td>20798</td>\n",
       "      <td>Enjoy Your Power, Enjoy Your Choice</td>\n",
       "      <td>https://www.imdb.com/title/tt3845606/?ref_=adv...</td>\n",
       "      <td>2014.0</td>\n",
       "      <td>NaN</td>\n",
       "      <td>NaN</td>\n",
       "      <td>NaN</td>\n",
       "      <td>Add a Plot</td>\n",
       "      <td>False</td>\n",
       "      <td>False</td>\n",
       "      <td>False</td>\n",
       "      <td>False</td>\n",
       "      <td>False</td>\n",
       "      <td>False</td>\n",
       "      <td>False</td>\n",
       "      <td>False</td>\n",
       "      <td>True</td>\n",
       "    </tr>\n",
       "    <tr>\n",
       "      <th>20801</th>\n",
       "      <td>20799</td>\n",
       "      <td>RedSun2020</td>\n",
       "      <td>https://www.imdb.com/title/tt0790739/?ref_=adv...</td>\n",
       "      <td>2004.0</td>\n",
       "      <td>NaN</td>\n",
       "      <td>NaN</td>\n",
       "      <td>NaN</td>\n",
       "      <td>Joseph gets kidnapped and it's the player's jo...</td>\n",
       "      <td>False</td>\n",
       "      <td>False</td>\n",
       "      <td>False</td>\n",
       "      <td>False</td>\n",
       "      <td>False</td>\n",
       "      <td>False</td>\n",
       "      <td>False</td>\n",
       "      <td>False</td>\n",
       "      <td>True</td>\n",
       "    </tr>\n",
       "    <tr>\n",
       "      <th>20802</th>\n",
       "      <td>20800</td>\n",
       "      <td>Shutter</td>\n",
       "      <td>https://www.imdb.com/title/tt5119948/?ref_=adv...</td>\n",
       "      <td>2015.0</td>\n",
       "      <td>NaN</td>\n",
       "      <td>NaN</td>\n",
       "      <td>NaN</td>\n",
       "      <td>A tech support man who uses a drone to investi...</td>\n",
       "      <td>False</td>\n",
       "      <td>False</td>\n",
       "      <td>False</td>\n",
       "      <td>False</td>\n",
       "      <td>False</td>\n",
       "      <td>False</td>\n",
       "      <td>False</td>\n",
       "      <td>False</td>\n",
       "      <td>True</td>\n",
       "    </tr>\n",
       "    <tr>\n",
       "      <th>20803</th>\n",
       "      <td>20801</td>\n",
       "      <td>The Music Machine</td>\n",
       "      <td>https://www.imdb.com/title/tt5142082/?ref_=adv...</td>\n",
       "      <td>2015.0</td>\n",
       "      <td>NaN</td>\n",
       "      <td>NaN</td>\n",
       "      <td>NaN</td>\n",
       "      <td>A young teenage girl and the ghost of a dead m...</td>\n",
       "      <td>False</td>\n",
       "      <td>False</td>\n",
       "      <td>False</td>\n",
       "      <td>False</td>\n",
       "      <td>False</td>\n",
       "      <td>False</td>\n",
       "      <td>False</td>\n",
       "      <td>False</td>\n",
       "      <td>True</td>\n",
       "    </tr>\n",
       "    <tr>\n",
       "      <th>20804</th>\n",
       "      <td>20802</td>\n",
       "      <td>Cryptic</td>\n",
       "      <td>https://www.imdb.com/title/tt10964974/?ref_=ad...</td>\n",
       "      <td>2020.0</td>\n",
       "      <td>NaN</td>\n",
       "      <td>NaN</td>\n",
       "      <td>NaN</td>\n",
       "      <td>Kidnapped by an insane man and dragged into a ...</td>\n",
       "      <td>False</td>\n",
       "      <td>False</td>\n",
       "      <td>False</td>\n",
       "      <td>False</td>\n",
       "      <td>False</td>\n",
       "      <td>False</td>\n",
       "      <td>False</td>\n",
       "      <td>False</td>\n",
       "      <td>True</td>\n",
       "    </tr>\n",
       "  </tbody>\n",
       "</table>\n",
       "<p>20803 rows × 17 columns</p>\n",
       "</div>"
      ],
      "text/plain": [
       "       Unnamed: 0                                 name  \\\n",
       "0               0                           Spider-Man   \n",
       "1               1               Red Dead Redemption II   \n",
       "2               2                   Grand Theft Auto V   \n",
       "3               3                           God of War   \n",
       "4               4           Uncharted 4: A Thief's End   \n",
       "...           ...                                  ...   \n",
       "20800       20798  Enjoy Your Power, Enjoy Your Choice   \n",
       "20801       20799                           RedSun2020   \n",
       "20802       20800                              Shutter   \n",
       "20803       20801                    The Music Machine   \n",
       "20804       20802                              Cryptic   \n",
       "\n",
       "                                                     url    year certificate  \\\n",
       "0      https://www.imdb.com/title/tt5807780/?ref_=adv...  2018.0           T   \n",
       "1      https://www.imdb.com/title/tt6161168/?ref_=adv...  2018.0           M   \n",
       "2      https://www.imdb.com/title/tt2103188/?ref_=adv...  2013.0           M   \n",
       "3      https://www.imdb.com/title/tt5838588/?ref_=adv...  2018.0           M   \n",
       "4      https://www.imdb.com/title/tt3334704/?ref_=adv...  2016.0           T   \n",
       "...                                                  ...     ...         ...   \n",
       "20800  https://www.imdb.com/title/tt3845606/?ref_=adv...  2014.0         NaN   \n",
       "20801  https://www.imdb.com/title/tt0790739/?ref_=adv...  2004.0         NaN   \n",
       "20802  https://www.imdb.com/title/tt5119948/?ref_=adv...  2015.0         NaN   \n",
       "20803  https://www.imdb.com/title/tt5142082/?ref_=adv...  2015.0         NaN   \n",
       "20804  https://www.imdb.com/title/tt10964974/?ref_=ad...  2020.0         NaN   \n",
       "\n",
       "       rating    votes                                       plot summary  \\\n",
       "0         9.2  20759.0  When a new villain threatens New York City, Pe...   \n",
       "1         9.7  35703.0  Amidst the decline of the Wild West at the tur...   \n",
       "2         9.5  59986.0  Three very different criminals team up for a s...   \n",
       "3         9.6  26118.0  After wiping out the gods of Mount Olympus, Kr...   \n",
       "4         9.5  28722.0  Thrown back into the dangerous underworld he'd...   \n",
       "...       ...      ...                                                ...   \n",
       "20800     NaN      NaN                                         Add a Plot   \n",
       "20801     NaN      NaN  Joseph gets kidnapped and it's the player's jo...   \n",
       "20802     NaN      NaN  A tech support man who uses a drone to investi...   \n",
       "20803     NaN      NaN  A young teenage girl and the ghost of a dead m...   \n",
       "20804     NaN      NaN  Kidnapped by an insane man and dragged into a ...   \n",
       "\n",
       "       Action  Adventure  Comedy  Crime  Family  Fantasy  Mystery  Sci-Fi  \\\n",
       "0        True       True   False  False   False     True    False   False   \n",
       "1        True       True   False   True   False    False    False   False   \n",
       "2        True      False   False   True   False    False    False   False   \n",
       "3        True       True   False  False   False    False    False   False   \n",
       "4        True       True   False  False   False    False    False   False   \n",
       "...       ...        ...     ...    ...     ...      ...      ...     ...   \n",
       "20800   False      False   False  False   False    False    False   False   \n",
       "20801   False      False   False  False   False    False    False   False   \n",
       "20802   False      False   False  False   False    False    False   False   \n",
       "20803   False      False   False  False   False    False    False   False   \n",
       "20804   False      False   False  False   False    False    False   False   \n",
       "\n",
       "       Thriller  \n",
       "0         False  \n",
       "1         False  \n",
       "2         False  \n",
       "3         False  \n",
       "4         False  \n",
       "...         ...  \n",
       "20800      True  \n",
       "20801      True  \n",
       "20802      True  \n",
       "20803      True  \n",
       "20804      True  \n",
       "\n",
       "[20803 rows x 17 columns]"
      ]
     },
     "execution_count": 140,
     "metadata": {},
     "output_type": "execute_result"
    }
   ],
   "source": [
    "df"
   ]
  },
  {
   "cell_type": "markdown",
   "metadata": {},
   "source": [
    "Renames the three aforementioned columns."
   ]
  },
  {
   "cell_type": "code",
   "execution_count": 141,
   "metadata": {},
   "outputs": [
    {
     "data": {
      "text/html": [
       "<div>\n",
       "<style scoped>\n",
       "    .dataframe tbody tr th:only-of-type {\n",
       "        vertical-align: middle;\n",
       "    }\n",
       "\n",
       "    .dataframe tbody tr th {\n",
       "        vertical-align: top;\n",
       "    }\n",
       "\n",
       "    .dataframe thead th {\n",
       "        text-align: right;\n",
       "    }\n",
       "</style>\n",
       "<table border=\"1\" class=\"dataframe\">\n",
       "  <thead>\n",
       "    <tr style=\"text-align: right;\">\n",
       "      <th></th>\n",
       "      <th>game_index</th>\n",
       "      <th>name</th>\n",
       "      <th>url</th>\n",
       "      <th>year</th>\n",
       "      <th>certificate</th>\n",
       "      <th>rating</th>\n",
       "      <th>votes</th>\n",
       "      <th>plot_summary</th>\n",
       "      <th>Action</th>\n",
       "      <th>Adventure</th>\n",
       "      <th>Comedy</th>\n",
       "      <th>Crime</th>\n",
       "      <th>Family</th>\n",
       "      <th>Fantasy</th>\n",
       "      <th>Mystery</th>\n",
       "      <th>Sci_Fi</th>\n",
       "      <th>Thriller</th>\n",
       "    </tr>\n",
       "  </thead>\n",
       "  <tbody>\n",
       "    <tr>\n",
       "      <th>0</th>\n",
       "      <td>0</td>\n",
       "      <td>Spider-Man</td>\n",
       "      <td>https://www.imdb.com/title/tt5807780/?ref_=adv...</td>\n",
       "      <td>2018.0</td>\n",
       "      <td>T</td>\n",
       "      <td>9.2</td>\n",
       "      <td>20759.0</td>\n",
       "      <td>When a new villain threatens New York City, Pe...</td>\n",
       "      <td>True</td>\n",
       "      <td>True</td>\n",
       "      <td>False</td>\n",
       "      <td>False</td>\n",
       "      <td>False</td>\n",
       "      <td>True</td>\n",
       "      <td>False</td>\n",
       "      <td>False</td>\n",
       "      <td>False</td>\n",
       "    </tr>\n",
       "    <tr>\n",
       "      <th>1</th>\n",
       "      <td>1</td>\n",
       "      <td>Red Dead Redemption II</td>\n",
       "      <td>https://www.imdb.com/title/tt6161168/?ref_=adv...</td>\n",
       "      <td>2018.0</td>\n",
       "      <td>M</td>\n",
       "      <td>9.7</td>\n",
       "      <td>35703.0</td>\n",
       "      <td>Amidst the decline of the Wild West at the tur...</td>\n",
       "      <td>True</td>\n",
       "      <td>True</td>\n",
       "      <td>False</td>\n",
       "      <td>True</td>\n",
       "      <td>False</td>\n",
       "      <td>False</td>\n",
       "      <td>False</td>\n",
       "      <td>False</td>\n",
       "      <td>False</td>\n",
       "    </tr>\n",
       "    <tr>\n",
       "      <th>2</th>\n",
       "      <td>2</td>\n",
       "      <td>Grand Theft Auto V</td>\n",
       "      <td>https://www.imdb.com/title/tt2103188/?ref_=adv...</td>\n",
       "      <td>2013.0</td>\n",
       "      <td>M</td>\n",
       "      <td>9.5</td>\n",
       "      <td>59986.0</td>\n",
       "      <td>Three very different criminals team up for a s...</td>\n",
       "      <td>True</td>\n",
       "      <td>False</td>\n",
       "      <td>False</td>\n",
       "      <td>True</td>\n",
       "      <td>False</td>\n",
       "      <td>False</td>\n",
       "      <td>False</td>\n",
       "      <td>False</td>\n",
       "      <td>False</td>\n",
       "    </tr>\n",
       "    <tr>\n",
       "      <th>3</th>\n",
       "      <td>3</td>\n",
       "      <td>God of War</td>\n",
       "      <td>https://www.imdb.com/title/tt5838588/?ref_=adv...</td>\n",
       "      <td>2018.0</td>\n",
       "      <td>M</td>\n",
       "      <td>9.6</td>\n",
       "      <td>26118.0</td>\n",
       "      <td>After wiping out the gods of Mount Olympus, Kr...</td>\n",
       "      <td>True</td>\n",
       "      <td>True</td>\n",
       "      <td>False</td>\n",
       "      <td>False</td>\n",
       "      <td>False</td>\n",
       "      <td>False</td>\n",
       "      <td>False</td>\n",
       "      <td>False</td>\n",
       "      <td>False</td>\n",
       "    </tr>\n",
       "    <tr>\n",
       "      <th>4</th>\n",
       "      <td>4</td>\n",
       "      <td>Uncharted 4: A Thief's End</td>\n",
       "      <td>https://www.imdb.com/title/tt3334704/?ref_=adv...</td>\n",
       "      <td>2016.0</td>\n",
       "      <td>T</td>\n",
       "      <td>9.5</td>\n",
       "      <td>28722.0</td>\n",
       "      <td>Thrown back into the dangerous underworld he'd...</td>\n",
       "      <td>True</td>\n",
       "      <td>True</td>\n",
       "      <td>False</td>\n",
       "      <td>False</td>\n",
       "      <td>False</td>\n",
       "      <td>False</td>\n",
       "      <td>False</td>\n",
       "      <td>False</td>\n",
       "      <td>False</td>\n",
       "    </tr>\n",
       "    <tr>\n",
       "      <th>...</th>\n",
       "      <td>...</td>\n",
       "      <td>...</td>\n",
       "      <td>...</td>\n",
       "      <td>...</td>\n",
       "      <td>...</td>\n",
       "      <td>...</td>\n",
       "      <td>...</td>\n",
       "      <td>...</td>\n",
       "      <td>...</td>\n",
       "      <td>...</td>\n",
       "      <td>...</td>\n",
       "      <td>...</td>\n",
       "      <td>...</td>\n",
       "      <td>...</td>\n",
       "      <td>...</td>\n",
       "      <td>...</td>\n",
       "      <td>...</td>\n",
       "    </tr>\n",
       "    <tr>\n",
       "      <th>20800</th>\n",
       "      <td>20798</td>\n",
       "      <td>Enjoy Your Power, Enjoy Your Choice</td>\n",
       "      <td>https://www.imdb.com/title/tt3845606/?ref_=adv...</td>\n",
       "      <td>2014.0</td>\n",
       "      <td>NaN</td>\n",
       "      <td>NaN</td>\n",
       "      <td>NaN</td>\n",
       "      <td>Add a Plot</td>\n",
       "      <td>False</td>\n",
       "      <td>False</td>\n",
       "      <td>False</td>\n",
       "      <td>False</td>\n",
       "      <td>False</td>\n",
       "      <td>False</td>\n",
       "      <td>False</td>\n",
       "      <td>False</td>\n",
       "      <td>True</td>\n",
       "    </tr>\n",
       "    <tr>\n",
       "      <th>20801</th>\n",
       "      <td>20799</td>\n",
       "      <td>RedSun2020</td>\n",
       "      <td>https://www.imdb.com/title/tt0790739/?ref_=adv...</td>\n",
       "      <td>2004.0</td>\n",
       "      <td>NaN</td>\n",
       "      <td>NaN</td>\n",
       "      <td>NaN</td>\n",
       "      <td>Joseph gets kidnapped and it's the player's jo...</td>\n",
       "      <td>False</td>\n",
       "      <td>False</td>\n",
       "      <td>False</td>\n",
       "      <td>False</td>\n",
       "      <td>False</td>\n",
       "      <td>False</td>\n",
       "      <td>False</td>\n",
       "      <td>False</td>\n",
       "      <td>True</td>\n",
       "    </tr>\n",
       "    <tr>\n",
       "      <th>20802</th>\n",
       "      <td>20800</td>\n",
       "      <td>Shutter</td>\n",
       "      <td>https://www.imdb.com/title/tt5119948/?ref_=adv...</td>\n",
       "      <td>2015.0</td>\n",
       "      <td>NaN</td>\n",
       "      <td>NaN</td>\n",
       "      <td>NaN</td>\n",
       "      <td>A tech support man who uses a drone to investi...</td>\n",
       "      <td>False</td>\n",
       "      <td>False</td>\n",
       "      <td>False</td>\n",
       "      <td>False</td>\n",
       "      <td>False</td>\n",
       "      <td>False</td>\n",
       "      <td>False</td>\n",
       "      <td>False</td>\n",
       "      <td>True</td>\n",
       "    </tr>\n",
       "    <tr>\n",
       "      <th>20803</th>\n",
       "      <td>20801</td>\n",
       "      <td>The Music Machine</td>\n",
       "      <td>https://www.imdb.com/title/tt5142082/?ref_=adv...</td>\n",
       "      <td>2015.0</td>\n",
       "      <td>NaN</td>\n",
       "      <td>NaN</td>\n",
       "      <td>NaN</td>\n",
       "      <td>A young teenage girl and the ghost of a dead m...</td>\n",
       "      <td>False</td>\n",
       "      <td>False</td>\n",
       "      <td>False</td>\n",
       "      <td>False</td>\n",
       "      <td>False</td>\n",
       "      <td>False</td>\n",
       "      <td>False</td>\n",
       "      <td>False</td>\n",
       "      <td>True</td>\n",
       "    </tr>\n",
       "    <tr>\n",
       "      <th>20804</th>\n",
       "      <td>20802</td>\n",
       "      <td>Cryptic</td>\n",
       "      <td>https://www.imdb.com/title/tt10964974/?ref_=ad...</td>\n",
       "      <td>2020.0</td>\n",
       "      <td>NaN</td>\n",
       "      <td>NaN</td>\n",
       "      <td>NaN</td>\n",
       "      <td>Kidnapped by an insane man and dragged into a ...</td>\n",
       "      <td>False</td>\n",
       "      <td>False</td>\n",
       "      <td>False</td>\n",
       "      <td>False</td>\n",
       "      <td>False</td>\n",
       "      <td>False</td>\n",
       "      <td>False</td>\n",
       "      <td>False</td>\n",
       "      <td>True</td>\n",
       "    </tr>\n",
       "  </tbody>\n",
       "</table>\n",
       "<p>20803 rows × 17 columns</p>\n",
       "</div>"
      ],
      "text/plain": [
       "       game_index                                 name  \\\n",
       "0               0                           Spider-Man   \n",
       "1               1               Red Dead Redemption II   \n",
       "2               2                   Grand Theft Auto V   \n",
       "3               3                           God of War   \n",
       "4               4           Uncharted 4: A Thief's End   \n",
       "...           ...                                  ...   \n",
       "20800       20798  Enjoy Your Power, Enjoy Your Choice   \n",
       "20801       20799                           RedSun2020   \n",
       "20802       20800                              Shutter   \n",
       "20803       20801                    The Music Machine   \n",
       "20804       20802                              Cryptic   \n",
       "\n",
       "                                                     url    year certificate  \\\n",
       "0      https://www.imdb.com/title/tt5807780/?ref_=adv...  2018.0           T   \n",
       "1      https://www.imdb.com/title/tt6161168/?ref_=adv...  2018.0           M   \n",
       "2      https://www.imdb.com/title/tt2103188/?ref_=adv...  2013.0           M   \n",
       "3      https://www.imdb.com/title/tt5838588/?ref_=adv...  2018.0           M   \n",
       "4      https://www.imdb.com/title/tt3334704/?ref_=adv...  2016.0           T   \n",
       "...                                                  ...     ...         ...   \n",
       "20800  https://www.imdb.com/title/tt3845606/?ref_=adv...  2014.0         NaN   \n",
       "20801  https://www.imdb.com/title/tt0790739/?ref_=adv...  2004.0         NaN   \n",
       "20802  https://www.imdb.com/title/tt5119948/?ref_=adv...  2015.0         NaN   \n",
       "20803  https://www.imdb.com/title/tt5142082/?ref_=adv...  2015.0         NaN   \n",
       "20804  https://www.imdb.com/title/tt10964974/?ref_=ad...  2020.0         NaN   \n",
       "\n",
       "       rating    votes                                       plot_summary  \\\n",
       "0         9.2  20759.0  When a new villain threatens New York City, Pe...   \n",
       "1         9.7  35703.0  Amidst the decline of the Wild West at the tur...   \n",
       "2         9.5  59986.0  Three very different criminals team up for a s...   \n",
       "3         9.6  26118.0  After wiping out the gods of Mount Olympus, Kr...   \n",
       "4         9.5  28722.0  Thrown back into the dangerous underworld he'd...   \n",
       "...       ...      ...                                                ...   \n",
       "20800     NaN      NaN                                         Add a Plot   \n",
       "20801     NaN      NaN  Joseph gets kidnapped and it's the player's jo...   \n",
       "20802     NaN      NaN  A tech support man who uses a drone to investi...   \n",
       "20803     NaN      NaN  A young teenage girl and the ghost of a dead m...   \n",
       "20804     NaN      NaN  Kidnapped by an insane man and dragged into a ...   \n",
       "\n",
       "       Action  Adventure  Comedy  Crime  Family  Fantasy  Mystery  Sci_Fi  \\\n",
       "0        True       True   False  False   False     True    False   False   \n",
       "1        True       True   False   True   False    False    False   False   \n",
       "2        True      False   False   True   False    False    False   False   \n",
       "3        True       True   False  False   False    False    False   False   \n",
       "4        True       True   False  False   False    False    False   False   \n",
       "...       ...        ...     ...    ...     ...      ...      ...     ...   \n",
       "20800   False      False   False  False   False    False    False   False   \n",
       "20801   False      False   False  False   False    False    False   False   \n",
       "20802   False      False   False  False   False    False    False   False   \n",
       "20803   False      False   False  False   False    False    False   False   \n",
       "20804   False      False   False  False   False    False    False   False   \n",
       "\n",
       "       Thriller  \n",
       "0         False  \n",
       "1         False  \n",
       "2         False  \n",
       "3         False  \n",
       "4         False  \n",
       "...         ...  \n",
       "20800      True  \n",
       "20801      True  \n",
       "20802      True  \n",
       "20803      True  \n",
       "20804      True  \n",
       "\n",
       "[20803 rows x 17 columns]"
      ]
     },
     "execution_count": 141,
     "metadata": {},
     "output_type": "execute_result"
    }
   ],
   "source": [
    "df.columns = ['game_index', 'name', 'url', 'year', 'certificate', 'rating', 'votes',\n",
    "       'plot_summary', 'Action', 'Adventure', 'Comedy', 'Crime', 'Family',\n",
    "       'Fantasy', 'Mystery', 'Sci_Fi', 'Thriller']\n",
    "\n",
    "df"
   ]
  },
  {
   "cell_type": "markdown",
   "metadata": {},
   "source": [
    "## 7. Fix Nulls"
   ]
  },
  {
   "cell_type": "markdown",
   "metadata": {},
   "source": [
    "Before we do anything to null values in the dataframe, we must check how many null/non-null values are present. This will help determine if it's worth replacing null values with something else. Replacing too many null values can skew data and make the information less credible.\n",
    "\n",
    "Certificate, rating, and votes are three data columns with a significant amount of null values in it.\n",
    "\n",
    "Normally, we could insert values to replace the nulls in the dataset, but since so many values are missing for the two numerical datasets, inserting values such as the number 0 will skew the results. Inserting mean/median values would be acceptable if the number of null values weren't so large.\n",
    "\n",
    "For the certificate column, it's most ethical to leave the empty ratings empty because we can't just make up data."
   ]
  },
  {
   "cell_type": "code",
   "execution_count": 142,
   "metadata": {},
   "outputs": [
    {
     "name": "stdout",
     "output_type": "stream",
     "text": [
      "<class 'pandas.core.frame.DataFrame'>\n",
      "Int64Index: 20803 entries, 0 to 20804\n",
      "Data columns (total 17 columns):\n",
      " #   Column        Non-Null Count  Dtype  \n",
      "---  ------        --------------  -----  \n",
      " 0   game_index    20803 non-null  int64  \n",
      " 1   name          20803 non-null  object \n",
      " 2   url           20803 non-null  object \n",
      " 3   year          20536 non-null  float64\n",
      " 4   certificate   7903 non-null   object \n",
      " 5   rating        11600 non-null  float64\n",
      " 6   votes         11600 non-null  float64\n",
      " 7   plot_summary  20803 non-null  object \n",
      " 8   Action        20803 non-null  bool   \n",
      " 9   Adventure     20803 non-null  bool   \n",
      " 10  Comedy        20803 non-null  bool   \n",
      " 11  Crime         20803 non-null  bool   \n",
      " 12  Family        20803 non-null  bool   \n",
      " 13  Fantasy       20803 non-null  bool   \n",
      " 14  Mystery       20803 non-null  bool   \n",
      " 15  Sci_Fi        20803 non-null  bool   \n",
      " 16  Thriller      20803 non-null  bool   \n",
      "dtypes: bool(9), float64(3), int64(1), object(4)\n",
      "memory usage: 1.6+ MB\n"
     ]
    }
   ],
   "source": [
    "df.info()"
   ]
  },
  {
   "cell_type": "markdown",
   "metadata": {},
   "source": [
    "## 8. Summarize Categorical Columns"
   ]
  },
  {
   "cell_type": "markdown",
   "metadata": {},
   "source": [
    "This outputs categorical data that is considered important for counting."
   ]
  },
  {
   "cell_type": "code",
   "execution_count": 143,
   "metadata": {},
   "outputs": [
    {
     "name": "stdout",
     "output_type": "stream",
     "text": [
      "----\n",
      "Number of games each year:\n"
     ]
    },
    {
     "data": {
      "text/plain": [
       "2019.0    956\n",
       "2018.0    872\n",
       "2017.0    863\n",
       "2016.0    828\n",
       "2015.0    761\n",
       "         ... \n",
       "1969.0      2\n",
       "1962.0      2\n",
       "1952.0      1\n",
       "1964.0      1\n",
       "2027.0      1\n",
       "Name: year, Length: 61, dtype: int64"
      ]
     },
     "metadata": {},
     "output_type": "display_data"
    },
    {
     "name": "stdout",
     "output_type": "stream",
     "text": [
      "----\n",
      "Certificate count:\n"
     ]
    },
    {
     "data": {
      "text/plain": [
       "T            2474\n",
       "E            2006\n",
       "M            1820\n",
       "E10+          814\n",
       "Unrated       241\n",
       "K-A           227\n",
       "Not Rated     184\n",
       "AO             32\n",
       "GA             26\n",
       "EC             25\n",
       "CE             13\n",
       "12              9\n",
       "PG-13           7\n",
       "MA-13           7\n",
       "Approved        4\n",
       "G               4\n",
       "MA-17           3\n",
       "PG              3\n",
       "TV-MA           2\n",
       "Passed          1\n",
       "TV-14           1\n",
       "Name: certificate, dtype: int64"
      ]
     },
     "metadata": {},
     "output_type": "display_data"
    },
    {
     "name": "stdout",
     "output_type": "stream",
     "text": [
      "----\n",
      "Action movie count:\n"
     ]
    },
    {
     "data": {
      "text/plain": [
       "True     11930\n",
       "False     8873\n",
       "Name: Action, dtype: int64"
      ]
     },
     "metadata": {},
     "output_type": "display_data"
    },
    {
     "name": "stdout",
     "output_type": "stream",
     "text": [
      "----\n",
      "Adventrue movie count:\n"
     ]
    },
    {
     "data": {
      "text/plain": [
       "False    10469\n",
       "True     10334\n",
       "Name: Adventure, dtype: int64"
      ]
     },
     "metadata": {},
     "output_type": "display_data"
    },
    {
     "name": "stdout",
     "output_type": "stream",
     "text": [
      "----\n",
      "Comedy movie count:\n"
     ]
    },
    {
     "data": {
      "text/plain": [
       "False    19020\n",
       "True      1783\n",
       "Name: Comedy, dtype: int64"
      ]
     },
     "metadata": {},
     "output_type": "display_data"
    },
    {
     "name": "stdout",
     "output_type": "stream",
     "text": [
      "----\n",
      "Crime movie count:\n"
     ]
    },
    {
     "data": {
      "text/plain": [
       "False    19908\n",
       "True       895\n",
       "Name: Crime, dtype: int64"
      ]
     },
     "metadata": {},
     "output_type": "display_data"
    },
    {
     "name": "stdout",
     "output_type": "stream",
     "text": [
      "----\n",
      "Family movie count:\n"
     ]
    },
    {
     "data": {
      "text/plain": [
       "False    17928\n",
       "True      2875\n",
       "Name: Family, dtype: int64"
      ]
     },
     "metadata": {},
     "output_type": "display_data"
    },
    {
     "name": "stdout",
     "output_type": "stream",
     "text": [
      "----\n",
      "Fantasy movie count:\n"
     ]
    },
    {
     "data": {
      "text/plain": [
       "False    16453\n",
       "True      4350\n",
       "Name: Fantasy, dtype: int64"
      ]
     },
     "metadata": {},
     "output_type": "display_data"
    },
    {
     "name": "stdout",
     "output_type": "stream",
     "text": [
      "----\n",
      "Mystery movie count:\n"
     ]
    },
    {
     "data": {
      "text/plain": [
       "False    19618\n",
       "True      1185\n",
       "Name: Mystery, dtype: int64"
      ]
     },
     "metadata": {},
     "output_type": "display_data"
    },
    {
     "name": "stdout",
     "output_type": "stream",
     "text": [
      "----\n",
      "Sci-Fi movie count:\n"
     ]
    },
    {
     "data": {
      "text/plain": [
       "False    17213\n",
       "True      3590\n",
       "Name: Sci_Fi, dtype: int64"
      ]
     },
     "metadata": {},
     "output_type": "display_data"
    },
    {
     "name": "stdout",
     "output_type": "stream",
     "text": [
      "----\n",
      "Thriller movie count:\n"
     ]
    },
    {
     "data": {
      "text/plain": [
       "False    20280\n",
       "True       523\n",
       "Name: Thriller, dtype: int64"
      ]
     },
     "metadata": {},
     "output_type": "display_data"
    }
   ],
   "source": [
    "print(\"----\\nNumber of games each year:\")\n",
    "display(df.year.value_counts())\n",
    "\n",
    "print(\"----\\nCertificate count:\")\n",
    "display(df.certificate.value_counts())\n",
    "\n",
    "print(\"----\\nAction movie count:\")\n",
    "display(df.Action.value_counts())\n",
    "\n",
    "print(\"----\\nAdventrue movie count:\")\n",
    "display(df.Adventure.value_counts())\n",
    "\n",
    "print(\"----\\nComedy movie count:\")\n",
    "display(df.Comedy.value_counts())\n",
    "\n",
    "print(\"----\\nCrime movie count:\")\n",
    "display(df.Crime.value_counts())\n",
    "\n",
    "print(\"----\\nFamily movie count:\")\n",
    "display(df.Family.value_counts())\n",
    "\n",
    "print(\"----\\nFantasy movie count:\")\n",
    "display(df.Fantasy.value_counts())\n",
    "\n",
    "print(\"----\\nMystery movie count:\")\n",
    "display(df.Mystery.value_counts())\n",
    "\n",
    "print(\"----\\nSci-Fi movie count:\")\n",
    "display(df.Sci_Fi.value_counts())\n",
    "\n",
    "print(\"----\\nThriller movie count:\")\n",
    "display(df.Thriller.value_counts())"
   ]
  },
  {
   "cell_type": "markdown",
   "metadata": {},
   "source": [
    "## 9. Summarize Numeric Columns"
   ]
  },
  {
   "cell_type": "markdown",
   "metadata": {},
   "source": [
    "This outputs numerical data that is considered important for counting."
   ]
  },
  {
   "cell_type": "code",
   "execution_count": 144,
   "metadata": {},
   "outputs": [
    {
     "name": "stdout",
     "output_type": "stream",
     "text": [
      "----\n",
      "Rating count:\n"
     ]
    },
    {
     "data": {
      "text/plain": [
       "7.4    493\n",
       "7.5    470\n",
       "7.6    452\n",
       "7.2    450\n",
       "7.8    442\n",
       "      ... \n",
       "1.7      4\n",
       "1.5      3\n",
       "1.3      3\n",
       "1.4      1\n",
       "1.0      1\n",
       "Name: rating, Length: 86, dtype: int64"
      ]
     },
     "metadata": {},
     "output_type": "display_data"
    },
    {
     "name": "stdout",
     "output_type": "stream",
     "text": [
      "----\n",
      "Votes count:\n"
     ]
    },
    {
     "data": {
      "text/plain": [
       "7.0       318\n",
       "9.0       295\n",
       "8.0       294\n",
       "10.0      287\n",
       "12.0      259\n",
       "         ... \n",
       "2325.0      1\n",
       "5028.0      1\n",
       "948.0       1\n",
       "1253.0      1\n",
       "3025.0      1\n",
       "Name: votes, Length: 1905, dtype: int64"
      ]
     },
     "metadata": {},
     "output_type": "display_data"
    }
   ],
   "source": [
    "print(\"----\\nRating count:\")\n",
    "display(df.rating.value_counts())\n",
    "\n",
    "print(\"----\\nVotes count:\")\n",
    "display(df.votes.value_counts())"
   ]
  }
 ],
 "metadata": {
  "kernelspec": {
   "display_name": "Python 3.9.12 ('base')",
   "language": "python",
   "name": "python3"
  },
  "language_info": {
   "codemirror_mode": {
    "name": "ipython",
    "version": 3
   },
   "file_extension": ".py",
   "mimetype": "text/x-python",
   "name": "python",
   "nbconvert_exporter": "python",
   "pygments_lexer": "ipython3",
   "version": "3.9.12"
  },
  "orig_nbformat": 4,
  "vscode": {
   "interpreter": {
    "hash": "0e7cf11cacfc6a88ae7db4161d0ba6bf4bea679b646a8b02aea1d775aeca3ab2"
   }
  }
 },
 "nbformat": 4,
 "nbformat_minor": 2
}
